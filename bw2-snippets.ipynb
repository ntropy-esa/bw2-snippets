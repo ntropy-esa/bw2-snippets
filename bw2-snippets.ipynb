{
 "cells": [
  {
   "cell_type": "markdown",
   "metadata": {},
   "source": [
    "# bw2-snippets\n",
    "A compilation of code snippets, useful when using brightway2, the python framework for life cycle assessment, especially when starting\n",
    "\n",
    "The code snippets are compiled in a jupyter notebook, and described with markdown text and/or in-line comments. \n",
    "\n",
    "Future to-do:\n",
    "- split in several notebooks, per theme / user level\n",
    "- create a jupyter notebook \"extension\" to access the code snippets directly in jupyter's gui "
   ]
  },
  {
   "cell_type": "markdown",
   "metadata": {},
   "source": [
    "## Starter"
   ]
  },
  {
   "cell_type": "markdown",
   "metadata": {},
   "source": [
    "### import common libaries"
   ]
  },
  {
   "cell_type": "code",
   "execution_count": null,
   "metadata": {},
   "outputs": [],
   "source": [
    "import brightway2 as bw2\n",
    "import numpy as np\n",
    "import pandas as pd\n",
    "import itertools\n",
    "import matplotlib.pyplot as plt\n",
    "%matplotlib inline"
   ]
  },
  {
   "cell_type": "markdown",
   "metadata": {},
   "source": [
    "### select existing bw2 project"
   ]
  },
  {
   "cell_type": "code",
   "execution_count": null,
   "metadata": {},
   "outputs": [],
   "source": [
    "pro = 'my_project_name'\n",
    "bw2.projects.set_current(pro)"
   ]
  },
  {
   "cell_type": "markdown",
   "metadata": {},
   "source": [
    "### search for activity in database"
   ]
  },
  {
   "cell_type": "code",
   "execution_count": null,
   "metadata": {},
   "outputs": [],
   "source": [
    "db_name = 'use_1_tree-planting' # name of database to search\n",
    "# search via list comprehension\n",
    "act = [a for a in bw2.Database(db_name)\n",
    "       if \"keyword to search\" in str(a)\n",
    "       and not \"keyword to exclude\" in str(a)\n",
    "       # add more keywords to search/exclude by adding lines below:  and \"...\" in str(a)\n",
    "      ] \n",
    "act.sort(reverse=True) # optional sorting of list\n",
    "act"
   ]
  },
  {
   "cell_type": "markdown",
   "metadata": {},
   "source": [
    "### select IPCC and ILCD methods, create list of units with corrected syntax"
   ]
  },
  {
   "cell_type": "code",
   "execution_count": null,
   "metadata": {},
   "outputs": [],
   "source": [
    "IPCC = [method for method in bw2.methods if \"IPCC 2013\" in str(method) \n",
    "        and \"GWP 100\" in str(method) \n",
    "        and \"LT\" not in str(method)\n",
    "        and \"V1\" not in str(method)]\n",
    "\n",
    "ILCDs = [method for method in bw2.methods if \"ILCD 2.0\" in str(method) \n",
    "        and \"LT\" not in str(method)\n",
    "        and \"V1\" not in str(method)\n",
    "        and \"climate change\" not in str(method)] # excluding climate change\n",
    "\n",
    "methods = ILCDs.copy()\n",
    "methods.append(IPCC[0])\n",
    "method_units = [bw2.methods[method]['unit'] for method in methods]\n",
    "method_units[0] = r'mol $H^{+}$-Eq'\n",
    "method_units[6] = r'kg $U_235$-Eq'\n",
    "method_units[-5] = r'$m^3$ water'\n",
    "method_units[-1] = r'kg $CO_2$-Eq'\n",
    "\n",
    "#methods, method_units"
   ]
  },
  {
   "cell_type": "code",
   "execution_count": null,
   "metadata": {},
   "outputs": [],
   "source": []
  },
  {
   "cell_type": "markdown",
   "metadata": {},
   "source": [
    "## Contribution analysis"
   ]
  },
  {
   "cell_type": "code",
   "execution_count": null,
   "metadata": {},
   "outputs": [],
   "source": []
  },
  {
   "cell_type": "code",
   "execution_count": null,
   "metadata": {},
   "outputs": [],
   "source": []
  }
 ],
 "metadata": {
  "kernelspec": {
   "display_name": "Python 3",
   "language": "python",
   "name": "python3"
  },
  "language_info": {
   "codemirror_mode": {
    "name": "ipython",
    "version": 3
   },
   "file_extension": ".py",
   "mimetype": "text/x-python",
   "name": "python",
   "nbconvert_exporter": "python",
   "pygments_lexer": "ipython3",
   "version": "3.6.8"
  },
  "toc": {
   "base_numbering": 1,
   "nav_menu": {},
   "number_sections": true,
   "sideBar": true,
   "skip_h1_title": true,
   "title_cell": "Table of Contents",
   "title_sidebar": "Contents",
   "toc_cell": false,
   "toc_position": {},
   "toc_section_display": true,
   "toc_window_display": true
  }
 },
 "nbformat": 4,
 "nbformat_minor": 2
}
